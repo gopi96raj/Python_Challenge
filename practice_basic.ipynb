{
 "cells": [
  {
   "cell_type": "code",
   "execution_count": 1,
   "id": "b6ab2616",
   "metadata": {},
   "outputs": [],
   "source": [
    "a=\"strings are immutable\""
   ]
  },
  {
   "cell_type": "code",
   "execution_count": 2,
   "id": "651f68c2",
   "metadata": {},
   "outputs": [],
   "source": [
    "a=\"mutable\""
   ]
  },
  {
   "cell_type": "code",
   "execution_count": 3,
   "id": "345e16ec",
   "metadata": {},
   "outputs": [
    {
     "name": "stdout",
     "output_type": "stream",
     "text": [
      "mutable\n"
     ]
    }
   ],
   "source": [
    "print(a)"
   ]
  },
  {
   "cell_type": "code",
   "execution_count": 4,
   "id": "99976d1b",
   "metadata": {},
   "outputs": [],
   "source": [
    "lst=[0,1,2]"
   ]
  },
  {
   "cell_type": "code",
   "execution_count": 5,
   "id": "9be34920",
   "metadata": {},
   "outputs": [
    {
     "data": {
      "text/plain": [
       "2"
      ]
     },
     "execution_count": 5,
     "metadata": {},
     "output_type": "execute_result"
    }
   ],
   "source": [
    "lst.pop()"
   ]
  },
  {
   "cell_type": "code",
   "execution_count": 6,
   "id": "2140a061",
   "metadata": {},
   "outputs": [],
   "source": [
    "tuppa=(1,2,3,4)"
   ]
  },
  {
   "cell_type": "code",
   "execution_count": 7,
   "id": "92b55a0a",
   "metadata": {},
   "outputs": [
    {
     "data": {
      "text/plain": [
       "tuple"
      ]
     },
     "execution_count": 7,
     "metadata": {},
     "output_type": "execute_result"
    }
   ],
   "source": [
    "type(tuppa)"
   ]
  },
  {
   "cell_type": "code",
   "execution_count": 9,
   "id": "efbe856a",
   "metadata": {},
   "outputs": [
    {
     "data": {
      "text/plain": [
       "1"
      ]
     },
     "execution_count": 9,
     "metadata": {},
     "output_type": "execute_result"
    }
   ],
   "source": [
    "tuppa.count(1)"
   ]
  },
  {
   "cell_type": "code",
   "execution_count": 13,
   "id": "e210bb81",
   "metadata": {},
   "outputs": [],
   "source": [
    "sety={a,1,2,3,4}"
   ]
  },
  {
   "cell_type": "code",
   "execution_count": 14,
   "id": "b1a8643c",
   "metadata": {},
   "outputs": [
    {
     "data": {
      "text/plain": [
       "set"
      ]
     },
     "execution_count": 14,
     "metadata": {},
     "output_type": "execute_result"
    }
   ],
   "source": [
    "type(sety)"
   ]
  },
  {
   "cell_type": "code",
   "execution_count": 15,
   "id": "cf05ec5a",
   "metadata": {},
   "outputs": [],
   "source": [
    "sety.add(5)"
   ]
  },
  {
   "cell_type": "code",
   "execution_count": 16,
   "id": "c5d6020a",
   "metadata": {},
   "outputs": [
    {
     "data": {
      "text/plain": [
       "{1, 2, 3, 4, 5, 'mutable'}"
      ]
     },
     "execution_count": 16,
     "metadata": {},
     "output_type": "execute_result"
    }
   ],
   "source": [
    "sety"
   ]
  },
  {
   "cell_type": "code",
   "execution_count": 17,
   "id": "18676926",
   "metadata": {},
   "outputs": [],
   "source": [
    "sety={1,1,2,3,4,4}"
   ]
  },
  {
   "cell_type": "code",
   "execution_count": 18,
   "id": "6055af43",
   "metadata": {},
   "outputs": [
    {
     "data": {
      "text/plain": [
       "{1, 2, 3, 4}"
      ]
     },
     "execution_count": 18,
     "metadata": {},
     "output_type": "execute_result"
    }
   ],
   "source": [
    "sety"
   ]
  },
  {
   "cell_type": "code",
   "execution_count": 19,
   "id": "5392f123",
   "metadata": {},
   "outputs": [],
   "source": [
    "x=[y for y in range(50) if y%3==0]"
   ]
  },
  {
   "cell_type": "code",
   "execution_count": 20,
   "id": "57484146",
   "metadata": {},
   "outputs": [
    {
     "name": "stdout",
     "output_type": "stream",
     "text": [
      "[0, 3, 6, 9, 12, 15, 18, 21, 24, 27, 30, 33, 36, 39, 42, 45, 48]\n"
     ]
    }
   ],
   "source": [
    "print(x)"
   ]
  },
  {
   "cell_type": "code",
   "execution_count": 21,
   "id": "f2c02197",
   "metadata": {},
   "outputs": [],
   "source": [
    "st = 'Create a list of the first letters of every word in this string'\n"
   ]
  },
  {
   "cell_type": "code",
   "execution_count": 22,
   "id": "6f7456de",
   "metadata": {},
   "outputs": [],
   "source": [
    "newst=st.split(' ')"
   ]
  },
  {
   "cell_type": "code",
   "execution_count": 23,
   "id": "701ca347",
   "metadata": {},
   "outputs": [
    {
     "data": {
      "text/plain": [
       "['Create',\n",
       " 'a',\n",
       " 'list',\n",
       " 'of',\n",
       " 'the',\n",
       " 'first',\n",
       " 'letters',\n",
       " 'of',\n",
       " 'every',\n",
       " 'word',\n",
       " 'in',\n",
       " 'this',\n",
       " 'string']"
      ]
     },
     "execution_count": 23,
     "metadata": {},
     "output_type": "execute_result"
    }
   ],
   "source": [
    "newst"
   ]
  },
  {
   "cell_type": "code",
   "execution_count": 24,
   "id": "d2af2205",
   "metadata": {},
   "outputs": [],
   "source": [
    "outst=[x[0] for x in newst]"
   ]
  },
  {
   "cell_type": "code",
   "execution_count": 25,
   "id": "ec561016",
   "metadata": {},
   "outputs": [
    {
     "data": {
      "text/plain": [
       "['C', 'a', 'l', 'o', 't', 'f', 'l', 'o', 'e', 'w', 'i', 't', 's']"
      ]
     },
     "execution_count": 25,
     "metadata": {},
     "output_type": "execute_result"
    }
   ],
   "source": [
    "outst"
   ]
  },
  {
   "cell_type": "code",
   "execution_count": 26,
   "id": "2b941012",
   "metadata": {},
   "outputs": [],
   "source": [
    "st = 'Print every word in this sentence that has an even number of letters'"
   ]
  },
  {
   "cell_type": "code",
   "execution_count": 27,
   "id": "f0a7b1e2",
   "metadata": {},
   "outputs": [],
   "source": [
    "newst=st.split(' ')"
   ]
  },
  {
   "cell_type": "code",
   "execution_count": 28,
   "id": "042c3303",
   "metadata": {},
   "outputs": [
    {
     "data": {
      "text/plain": [
       "['Print',\n",
       " 'every',\n",
       " 'word',\n",
       " 'in',\n",
       " 'this',\n",
       " 'sentence',\n",
       " 'that',\n",
       " 'has',\n",
       " 'an',\n",
       " 'even',\n",
       " 'number',\n",
       " 'of',\n",
       " 'letters']"
      ]
     },
     "execution_count": 28,
     "metadata": {},
     "output_type": "execute_result"
    }
   ],
   "source": [
    "newst"
   ]
  },
  {
   "cell_type": "code",
   "execution_count": 31,
   "id": "6110e2e3",
   "metadata": {},
   "outputs": [
    {
     "name": "stdout",
     "output_type": "stream",
     "text": [
      "word even\n",
      "in even\n",
      "this even\n",
      "sentence even\n",
      "that even\n",
      "an even\n",
      "even even\n",
      "number even\n",
      "of even\n"
     ]
    }
   ],
   "source": [
    "for i in range(len(newst)):\n",
    "    if len(newst[i])%2==0:\n",
    "        print(newst[i],\"even\")"
   ]
  },
  {
   "cell_type": "code",
   "execution_count": 32,
   "id": "ef50e941",
   "metadata": {},
   "outputs": [],
   "source": [
    "st = 'Print only the words that start with s in this sentence'"
   ]
  },
  {
   "cell_type": "code",
   "execution_count": 33,
   "id": "3fc7720b",
   "metadata": {},
   "outputs": [],
   "source": [
    "newst=st.split(' ')"
   ]
  },
  {
   "cell_type": "code",
   "execution_count": 34,
   "id": "8c3d85d3",
   "metadata": {},
   "outputs": [],
   "source": [
    "newst2=[x for x in newst if x[0]=='s']"
   ]
  },
  {
   "cell_type": "code",
   "execution_count": 35,
   "id": "8343c3c1",
   "metadata": {},
   "outputs": [
    {
     "data": {
      "text/plain": [
       "['start', 's', 'sentence']"
      ]
     },
     "execution_count": 35,
     "metadata": {},
     "output_type": "execute_result"
    }
   ],
   "source": [
    "newst2"
   ]
  },
  {
   "cell_type": "code",
   "execution_count": null,
   "id": "1bd968e6",
   "metadata": {},
   "outputs": [],
   "source": []
  }
 ],
 "metadata": {
  "kernelspec": {
   "display_name": "Python 3 (ipykernel)",
   "language": "python",
   "name": "python3"
  },
  "language_info": {
   "codemirror_mode": {
    "name": "ipython",
    "version": 3
   },
   "file_extension": ".py",
   "mimetype": "text/x-python",
   "name": "python",
   "nbconvert_exporter": "python",
   "pygments_lexer": "ipython3",
   "version": "3.9.12"
  }
 },
 "nbformat": 4,
 "nbformat_minor": 5
}
