{
 "cells": [
  {
   "cell_type": "code",
   "execution_count": 13,
   "id": "dfeeacca",
   "metadata": {},
   "outputs": [],
   "source": [
    "# creating empty 2D array\n",
    "from IPython.display import clear_output"
   ]
  },
  {
   "cell_type": "code",
   "execution_count": 2,
   "id": "745d2c20",
   "metadata": {},
   "outputs": [],
   "source": [
    "arr=[]\n",
    "for i in range(3):\n",
    "    col=[]\n",
    "    for j in range(3):\n",
    "        col.append(0)\n",
    "    arr.append(col)"
   ]
  },
  {
   "cell_type": "code",
   "execution_count": 3,
   "id": "f2b55241",
   "metadata": {},
   "outputs": [
    {
     "name": "stdout",
     "output_type": "stream",
     "text": [
      "[[0, 0, 0], [0, 0, 0], [0, 0, 0]]\n"
     ]
    }
   ],
   "source": [
    "print(arr)"
   ]
  },
  {
   "cell_type": "code",
   "execution_count": null,
   "id": "34806518",
   "metadata": {},
   "outputs": [],
   "source": []
  },
  {
   "cell_type": "code",
   "execution_count": null,
   "id": "caf10fc2",
   "metadata": {},
   "outputs": [],
   "source": []
  },
  {
   "cell_type": "code",
   "execution_count": 4,
   "id": "cbf4a5b1",
   "metadata": {},
   "outputs": [],
   "source": [
    "def placer1():\n",
    "    print('player1')\n",
    "    r=int(input('enter row:'))\n",
    "    c=int(input('enter column:'))\n",
    "    \n",
    "    arr[r-1][c-1]='*'\n",
    "    for i in range(3):\n",
    "        print(arr[i])"
   ]
  },
  {
   "cell_type": "code",
   "execution_count": 5,
   "id": "73b66166",
   "metadata": {},
   "outputs": [],
   "source": [
    "def placer2():\n",
    "    print('player2')\n",
    "    r=int(input('enter row:'))\n",
    "    c=int(input('enter column:'))\n",
    "    \n",
    "    arr[r-1][c-1]='+'\n",
    "    \n",
    "    for i in range(3):\n",
    "        print(arr[i])"
   ]
  },
  {
   "cell_type": "code",
   "execution_count": 6,
   "id": "4dcbb8f2",
   "metadata": {},
   "outputs": [],
   "source": [
    "def col_conv(arr1):\n",
    "    \n",
    "    cl=[]\n",
    "    for k in range(3): \n",
    "        col2=[]\n",
    "        for r in range(3):\n",
    "            col2.append(arr1[r][k])\n",
    "        cl.append(col2)\n",
    "    \n",
    "    return cl"
   ]
  },
  {
   "cell_type": "code",
   "execution_count": 7,
   "id": "e7524146",
   "metadata": {},
   "outputs": [],
   "source": [
    "def cross_conv1(arr1):\n",
    "   \n",
    "    col2=[]\n",
    "    for r in range(3):\n",
    "        col2.append(arr1[r][r])\n",
    "    \n",
    "    return col2\n"
   ]
  },
  {
   "cell_type": "code",
   "execution_count": 8,
   "id": "94dac691",
   "metadata": {},
   "outputs": [],
   "source": [
    "def cross_conv2(arr1):\n",
    "    col22=[]\n",
    "    col22.append(arr1[0][2])\n",
    "    col22.append(arr1[1][1])\n",
    "    col22.append(arr1[2][0])\n",
    "    \n",
    "    return col22\n",
    "    \n",
    "        \n",
    " "
   ]
  },
  {
   "cell_type": "code",
   "execution_count": 9,
   "id": "74bb5943",
   "metadata": {},
   "outputs": [],
   "source": [
    "def checker(arr2):\n",
    "    \n",
    "    flag=False\n",
    "    \n",
    "    # row check\n",
    "    for i in range(3):\n",
    "        if arr2[i].count('*')==3:\n",
    "            print('Player 1 is the winner')\n",
    "            flag=True\n",
    "            return flag\n",
    "        elif arr2[i].count('+')==3 :\n",
    "            print('Player 2 is the winner')\n",
    "            flag=True\n",
    "            return flag\n",
    "        else:\n",
    "            pass\n",
    "    # column check\n",
    "    arr3=col_conv(arr2)\n",
    "    \n",
    "    \n",
    "    for j in range(3):\n",
    "        if arr3[j].count('*')==3 :\n",
    "            print('Player 1 is the winner')\n",
    "            flag=True\n",
    "            return flag\n",
    "        elif arr3[j].count('+')==3 :\n",
    "            print('Player 2 is the winner')\n",
    "            flag=True\n",
    "            return flag\n",
    "        else:\n",
    "            pass\n",
    "    #cross check1\n",
    "    arr3=cross_conv1(arr2)\n",
    "    if arr3.count('*')==3:\n",
    "        print('Player 1 is the winner')\n",
    "        flag=True\n",
    "        return flag\n",
    "    elif arr3.count('+')==3:\n",
    "        print('Player 2 is the winner')\n",
    "        flag=True\n",
    "        return flag\n",
    "    else:\n",
    "        pass\n",
    "   #cross check2\n",
    "    arr3=cross_conv2(arr)\n",
    "    if arr3.count('*')==3:\n",
    "        print('Player 1 is the winner')\n",
    "        flag=True\n",
    "        return flag\n",
    "    elif arr3.count('+')==3:\n",
    "        print('Player 2 is the winner')\n",
    "        flag=True\n",
    "        return flag\n",
    "    else:\n",
    "        pass\n",
    "                    \n",
    "    return flag\n",
    "\n",
    "\n",
    "        \n"
   ]
  },
  {
   "cell_type": "code",
   "execution_count": null,
   "id": "664f58a3",
   "metadata": {},
   "outputs": [],
   "source": [
    "flag=0\n",
    "while flag!=True:\n",
    "    placer1()\n",
    "    flag=checker(arr)\n",
    "    \n",
    "    placer2()\n",
    "    flag=checker(arr)\n",
    "    \n",
    "    "
   ]
  },
  {
   "cell_type": "code",
   "execution_count": null,
   "id": "df260aab",
   "metadata": {},
   "outputs": [],
   "source": []
  }
 ],
 "metadata": {
  "kernelspec": {
   "display_name": "Python 3 (ipykernel)",
   "language": "python",
   "name": "python3"
  },
  "language_info": {
   "codemirror_mode": {
    "name": "ipython",
    "version": 3
   },
   "file_extension": ".py",
   "mimetype": "text/x-python",
   "name": "python",
   "nbconvert_exporter": "python",
   "pygments_lexer": "ipython3",
   "version": "3.9.12"
  }
 },
 "nbformat": 4,
 "nbformat_minor": 5
}
