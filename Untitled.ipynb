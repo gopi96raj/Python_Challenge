{
 "cells": [
  {
   "cell_type": "code",
   "execution_count": 4,
   "id": "2f4eeb6d",
   "metadata": {},
   "outputs": [],
   "source": [
    "rows,column=3,3\n",
    "arr=[]"
   ]
  },
  {
   "cell_type": "code",
   "execution_count": 7,
   "id": "14c625de",
   "metadata": {},
   "outputs": [],
   "source": [
    "for i in range(rows):\n",
    "    cols=[]\n",
    "    for j in range(column):\n",
    "        cols.append(0)\n",
    "    arr.append(cols)\n",
    "        \n",
    "        "
   ]
  },
  {
   "cell_type": "code",
   "execution_count": 9,
   "id": "fdf48145",
   "metadata": {},
   "outputs": [
    {
     "name": "stdout",
     "output_type": "stream",
     "text": [
      "[0, 0, 0]\n",
      "[0, 0, 0]\n",
      "[0, 0, 0]\n"
     ]
    }
   ],
   "source": [
    "for i in range(rows):\n",
    "    print(arr[i])"
   ]
  },
  {
   "cell_type": "code",
   "execution_count": null,
   "id": "12e6fb1d",
   "metadata": {},
   "outputs": [],
   "source": []
  }
 ],
 "metadata": {
  "kernelspec": {
   "display_name": "Python 3 (ipykernel)",
   "language": "python",
   "name": "python3"
  },
  "language_info": {
   "codemirror_mode": {
    "name": "ipython",
    "version": 3
   },
   "file_extension": ".py",
   "mimetype": "text/x-python",
   "name": "python",
   "nbconvert_exporter": "python",
   "pygments_lexer": "ipython3",
   "version": "3.9.12"
  }
 },
 "nbformat": 4,
 "nbformat_minor": 5
}
