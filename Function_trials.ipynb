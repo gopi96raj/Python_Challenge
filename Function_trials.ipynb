{
 "cells": [
  {
   "cell_type": "code",
   "execution_count": 1,
   "id": "abde7452",
   "metadata": {},
   "outputs": [],
   "source": [
    "def myfinc(name):\n",
    "    print(\"hello {}\".format(name))"
   ]
  },
  {
   "cell_type": "code",
   "execution_count": 3,
   "id": "8e147931",
   "metadata": {},
   "outputs": [
    {
     "name": "stdout",
     "output_type": "stream",
     "text": [
      "hello Gopi\n"
     ]
    }
   ],
   "source": [
    "myfinc(\"Gopi\")"
   ]
  },
  {
   "cell_type": "code",
   "execution_count": 4,
   "id": "e49dae79",
   "metadata": {},
   "outputs": [],
   "source": [
    "def myfunc(*args):\n",
    "    empty=[]\n",
    "    for x in args:\n",
    "        if x in args%2==0:\n",
    "            empty.append(x)\n",
    "    return empty    "
   ]
  },
  {
   "cell_type": "code",
   "execution_count": 14,
   "id": "bbcd1718",
   "metadata": {},
   "outputs": [],
   "source": [
    "def myfunc(*args):\n",
    "    empty=[]\n",
    "    for x in args:\n",
    "        if x%2==0:\n",
    "            empty.append(x)\n",
    "    return empty\n",
    "         "
   ]
  },
  {
   "cell_type": "code",
   "execution_count": 15,
   "id": "732d61a2",
   "metadata": {},
   "outputs": [
    {
     "data": {
      "text/plain": [
       "[2, 6, 8]"
      ]
     },
     "execution_count": 15,
     "metadata": {},
     "output_type": "execute_result"
    }
   ],
   "source": [
    "a=myfunc(2,5,6,7,8)\n",
    "a"
   ]
  },
  {
   "cell_type": "code",
   "execution_count": 22,
   "id": "db6fd4e7",
   "metadata": {},
   "outputs": [],
   "source": [
    "list=['a','b','c']\n",
    "str1=\"\""
   ]
  },
  {
   "cell_type": "code",
   "execution_count": 24,
   "id": "3046432c",
   "metadata": {},
   "outputs": [],
   "source": [
    "for z in list:\n",
    "    str1+=z"
   ]
  },
  {
   "cell_type": "code",
   "execution_count": 25,
   "id": "6efd94e5",
   "metadata": {},
   "outputs": [
    {
     "data": {
      "text/plain": [
       "'abc'"
      ]
     },
     "execution_count": 25,
     "metadata": {},
     "output_type": "execute_result"
    }
   ],
   "source": [
    "str1"
   ]
  },
  {
   "cell_type": "code",
   "execution_count": 30,
   "id": "7ac01fe0",
   "metadata": {},
   "outputs": [],
   "source": [
    "def myfunc(**kwargs):\n",
    "    for z in kwargs:\n",
    "        print(kwargs)"
   ]
  },
  {
   "cell_type": "code",
   "execution_count": 31,
   "id": "5b3db513",
   "metadata": {},
   "outputs": [
    {
     "ename": "TypeError",
     "evalue": "myfunc() takes 0 positional arguments but 1 was given",
     "output_type": "error",
     "traceback": [
      "\u001b[1;31m---------------------------------------------------------------------------\u001b[0m",
      "\u001b[1;31mTypeError\u001b[0m                                 Traceback (most recent call last)",
      "Input \u001b[1;32mIn [31]\u001b[0m, in \u001b[0;36m<cell line: 1>\u001b[1;34m()\u001b[0m\n\u001b[1;32m----> 1\u001b[0m \u001b[43mmyfunc\u001b[49m\u001b[43m(\u001b[49m\u001b[38;5;124;43m'\u001b[39;49m\u001b[38;5;124;43mGopi\u001b[39;49m\u001b[38;5;124;43m'\u001b[39;49m\u001b[43m)\u001b[49m\n",
      "\u001b[1;31mTypeError\u001b[0m: myfunc() takes 0 positional arguments but 1 was given"
     ]
    }
   ],
   "source": [
    "myfunc('Gopi')"
   ]
  },
  {
   "cell_type": "code",
   "execution_count": 32,
   "id": "ae4830b9",
   "metadata": {},
   "outputs": [],
   "source": [
    "def myfunc(input_str):\n",
    "    result = ''\n",
    "    for i in range(len(input_str)):\n",
    "        if i % 2 == 0:\n",
    "            result += input_str[i].upper()\n",
    "        else:\n",
    "            result += input_str[i].lower()\n",
    "    return result\n"
   ]
  },
  {
   "cell_type": "code",
   "execution_count": 35,
   "id": "c9d6219f",
   "metadata": {},
   "outputs": [
    {
     "data": {
      "text/plain": [
       "'AdEnGoPaAtHaMaVaNe'"
      ]
     },
     "execution_count": 35,
     "metadata": {},
     "output_type": "execute_result"
    }
   ],
   "source": [
    "a=myfunc('adengopaathamavane')\n",
    "a"
   ]
  },
  {
   "cell_type": "code",
   "execution_count": 45,
   "id": "ba9755a4",
   "metadata": {},
   "outputs": [],
   "source": [
    "str1=\"GOPI\""
   ]
  },
  {
   "cell_type": "code",
   "execution_count": 41,
   "id": "45aac5e5",
   "metadata": {},
   "outputs": [],
   "source": [
    "str2=[str[i] for i in range(len(str1))]"
   ]
  },
  {
   "cell_type": "code",
   "execution_count": 46,
   "id": "0e3d6dd7",
   "metadata": {},
   "outputs": [
    {
     "data": {
      "text/plain": [
       "True"
      ]
     },
     "execution_count": 46,
     "metadata": {},
     "output_type": "execute_result"
    }
   ],
   "source": [
    "str1.isupper()"
   ]
  },
  {
   "cell_type": "code",
   "execution_count": 49,
   "id": "88c6fe7d",
   "metadata": {},
   "outputs": [
    {
     "data": {
      "text/plain": [
       "[1, 2, 4, 5]"
      ]
     },
     "execution_count": 49,
     "metadata": {},
     "output_type": "execute_result"
    }
   ],
   "source": [
    "lst=[1,2,4,5]\n",
    "lst"
   ]
  },
  {
   "cell_type": "code",
   "execution_count": 54,
   "id": "2bbd4849",
   "metadata": {},
   "outputs": [
    {
     "data": {
      "text/plain": [
       "set"
      ]
     },
     "execution_count": 54,
     "metadata": {},
     "output_type": "execute_result"
    }
   ],
   "source": [
    "abc=set(lst)\n",
    "type(abc)"
   ]
  },
  {
   "cell_type": "code",
   "execution_count": null,
   "id": "482fb17a",
   "metadata": {},
   "outputs": [],
   "source": []
  }
 ],
 "metadata": {
  "kernelspec": {
   "display_name": "Python 3 (ipykernel)",
   "language": "python",
   "name": "python3"
  },
  "language_info": {
   "codemirror_mode": {
    "name": "ipython",
    "version": 3
   },
   "file_extension": ".py",
   "mimetype": "text/x-python",
   "name": "python",
   "nbconvert_exporter": "python",
   "pygments_lexer": "ipython3",
   "version": "3.9.12"
  }
 },
 "nbformat": 4,
 "nbformat_minor": 5
}
