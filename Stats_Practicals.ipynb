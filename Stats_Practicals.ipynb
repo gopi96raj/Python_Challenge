{
 "cells": [
  {
   "cell_type": "code",
   "execution_count": 2,
   "metadata": {
    "id": "UwrdXLBomd5M"
   },
   "outputs": [],
   "source": [
    "### Outliers"
   ]
  },
  {
   "cell_type": "code",
   "execution_count": 3,
   "metadata": {
    "id": "eAomTAQ1mjzA"
   },
   "outputs": [],
   "source": [
    "import numpy as np\n",
    "import matplotlib.pyplot as plt\n",
    "%matplotlib inline\n"
   ]
  },
  {
   "cell_type": "code",
   "execution_count": 11,
   "metadata": {
    "id": "L5VNbz7xmuAn"
   },
   "outputs": [],
   "source": [
    "## Define our dataset\n",
    "dataset= [11,10,12,14,12,15,14,13,15,102,12,14,17,19,107, 10,13,12,14,12,108,12,11,14,13,15,10,15,12,10,14,13,15,10,43,1001,22,65,43,22,56,25,76,11,43,54,33,34,47,98,76,55,67,78,85,47,83]"
   ]
  },
  {
   "cell_type": "code",
   "execution_count": 7,
   "metadata": {
    "colab": {
     "base_uri": "https://localhost:8080/",
     "height": 336
    },
    "id": "IcP4jXLOocG9",
    "outputId": "5ace9e5b-e009-4e97-d775-d53d05a9a7e6"
   },
   "outputs": [
    {
     "data": {
      "text/plain": [
       "(array([32.,  3.,  2.,  5.,  3.,  2.,  3.,  2.,  1.,  3.]),\n",
       " array([ 10. ,  19.8,  29.6,  39.4,  49.2,  59. ,  68.8,  78.6,  88.4,\n",
       "         98.2, 108. ]),\n",
       " <BarContainer object of 10 artists>)"
      ]
     },
     "execution_count": 7,
     "metadata": {},
     "output_type": "execute_result"
    },
    {
     "data": {
      "image/png": "[encoded data removed]",
      "text/plain": [
       "<Figure size 432x288 with 1 Axes>"
      ]
     },
     "metadata": {
      "needs_background": "light"
     },
     "output_type": "display_data"
    }
   ],
   "source": [
    "plt.hist(dataset)"
   ]
  },
  {
   "cell_type": "code",
   "execution_count": 12,
   "metadata": {
    "id": "fEkOthX6m88K"
   },
   "outputs": [],
   "source": [
    "## Z Score\n",
    "outliers=[]\n",
    "\n",
    "def detect_outliers(data):\n",
    "  threshold=3 ## 3 std deviation\n",
    "  mean=np.mean(data)\n",
    "  std=np.std(data)\n",
    "\n",
    "  for i in data:\n",
    "    z_score=(i-mean)/std\n",
    "    if np.abs(z_score)> threshold:\n",
    "      outliers.append(i)\n",
    "\n",
    "  return outliers\n",
    "\n"
   ]
  },
  {
   "cell_type": "code",
   "execution_count": 15,
   "metadata": {
    "colab": {
     "base_uri": "https://localhost:8080/"
    },
    "id": "AFRLAXH7oWXI",
    "outputId": "fe0513ae-a488-435e-827d-1401b59cb540"
   },
   "outputs": [
    {
     "data": {
      "text/plain": [
       "[1001, 1001]"
      ]
     },
     "execution_count": 15,
     "metadata": {},
     "output_type": "execute_result"
    }
   ],
   "source": [
    "detect_outliers(dataset)"
   ]
  },
  {
   "cell_type": "markdown",
   "metadata": {
    "id": "lgrPCsYQpcKC"
   },
   "source": [
    "#IQR\n",
    "1. Sort the data\n",
    "2. Calculate Q1 aqnd Q3\n",
    "3. IQR(Q3-Q1)\n",
    "4. Find the Lower fence(q1-1.5(iqr))\n",
    "5. Find the upper fence(q3+1.5(iqr))"
   ]
  },
  {
   "cell_type": "code",
   "execution_count": 16,
   "metadata": {
    "colab": {
     "base_uri": "https://localhost:8080/"
    },
    "id": "LWIdK5cGo2PQ",
    "outputId": "970cc925-29a9-4d24-a5d3-db153133b89d"
   },
   "outputs": [],
   "source": [
    "dataset=sorted(dataset)\n",
    "q1=np.quantile(dataset,0.25)\n"
   ]
  },
  {
   "cell_type": "code",
   "execution_count": 17,
   "metadata": {
    "id": "5X9HvLnSp6qM"
   },
   "outputs": [],
   "source": [
    "q1,q3=np.percentile(dataset,[25,75])"
   ]
  },
  {
   "cell_type": "code",
   "execution_count": 18,
   "metadata": {
    "colab": {
     "base_uri": "https://localhost:8080/"
    },
    "id": "XtS2-_bRqF3N",
    "outputId": "a196cf27-5fb1-44f1-8fbc-04cfca5be43e"
   },
   "outputs": [
    {
     "name": "stdout",
     "output_type": "stream",
     "text": [
      "12.0 54.0\n"
     ]
    }
   ],
   "source": [
    "print(q1,q3)"
   ]
  },
  {
   "cell_type": "code",
   "execution_count": 19,
   "metadata": {
    "colab": {
     "base_uri": "https://localhost:8080/"
    },
    "id": "2pXqb-wgqWa7",
    "outputId": "f149afa2-29d4-4691-d434-86e7b40f9c48"
   },
   "outputs": [
    {
     "name": "stdout",
     "output_type": "stream",
     "text": [
      "42.0\n"
     ]
    }
   ],
   "source": [
    "iqr=q3-q1\n",
    "print(iqr)"
   ]
  },
  {
   "cell_type": "code",
   "execution_count": 20,
   "metadata": {
    "id": "yvAm3AEpqH6g"
   },
   "outputs": [],
   "source": [
    "## Find the lower fence and higher fence\n",
    "lower_fence=q1-(1.5*iqr)\n",
    "higher_fence=q3+(1.5* iqr)"
   ]
  },
  {
   "cell_type": "code",
   "execution_count": 21,
   "metadata": {
    "colab": {
     "base_uri": "https://localhost:8080/"
    },
    "id": "-zVLfeHtqhon",
    "outputId": "2b03fdc4-944c-4599-b455-2fdc76a2c2e7"
   },
   "outputs": [
    {
     "name": "stdout",
     "output_type": "stream",
     "text": [
      "-51.0 117.0\n"
     ]
    }
   ],
   "source": [
    "print(lower_fence,higher_fence)"
   ]
  },
  {
   "cell_type": "code",
   "execution_count": 22,
   "metadata": {
    "id": "k4HSrcGjqksX"
   },
   "outputs": [],
   "source": [
    "import seaborn as sns\n"
   ]
  },
  {
   "cell_type": "code",
   "execution_count": 23,
   "metadata": {
    "colab": {
     "base_uri": "https://localhost:8080/",
     "height": 338
    },
    "id": "U8yZdzpBq3-t",
    "outputId": "cae821ed-fe97-458c-d037-2051f200ee7b"
   },
   "outputs": [
    {
     "name": "stderr",
     "output_type": "stream",
     "text": [
      "C:\\Users\\00423S744\\Anaconda3\\lib\\site-packages\\seaborn\\_decorators.py:36: FutureWarning: Pass the following variable as a keyword arg: x. From version 0.12, the only valid positional argument will be `data`, and passing other arguments without an explicit keyword will result in an error or misinterpretation.\n",
      "  warnings.warn(\n"
     ]
    },
    {
     "data": {
      "text/plain": [
       "<AxesSubplot:>"
      ]
     },
     "execution_count": 23,
     "metadata": {},
     "output_type": "execute_result"
    },
    {
     "data": {
      "image/png": "[encoded data removed]",
      "text/plain": [
       "<Figure size 432x288 with 1 Axes>"
      ]
     },
     "metadata": {
      "needs_background": "light"
     },
     "output_type": "display_data"
    }
   ],
   "source": [
    "sns.boxplot(dataset)"
   ]
  },
  {
   "cell_type": "code",
   "execution_count": null,
   "metadata": {
    "id": "xmQGwEYWq9hx"
   },
   "outputs": [],
   "source": []
  }
 ],
 "metadata": {
  "colab": {
   "provenance": []
  },
  "kernelspec": {
   "display_name": "Python 3 (ipykernel)",
   "language": "python",
   "name": "python3"
  },
  "language_info": {
   "codemirror_mode": {
    "name": "ipython",
    "version": 3
   },
   "file_extension": ".py",
   "mimetype": "text/x-python",
   "name": "python",
   "nbconvert_exporter": "python",
   "pygments_lexer": "ipython3",
   "version": "3.9.12"
  }
 },
 "nbformat": 4,
 "nbformat_minor": 1
}
