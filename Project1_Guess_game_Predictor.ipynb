{
 "cells": [
  {
   "cell_type": "code",
   "execution_count": 1,
   "id": "3a6c1c1e",
   "metadata": {},
   "outputs": [
    {
     "data": {
      "text/plain": [
       "58"
      ]
     },
     "execution_count": 1,
     "metadata": {},
     "output_type": "execute_result"
    }
   ],
   "source": [
    "import numpy as np\n",
    "a=np.random.randint(1,100)\n",
    "a"
   ]
  },
  {
   "cell_type": "code",
   "execution_count": 2,
   "id": "1c391262",
   "metadata": {},
   "outputs": [
    {
     "name": "stdout",
     "output_type": "stream",
     "text": [
      "enter the first guess95\n"
     ]
    }
   ],
   "source": [
    "player=int(input('enter the first guess'))\n",
    "count=0"
   ]
  },
  {
   "cell_type": "code",
   "execution_count": 3,
   "id": "31bb4cfb",
   "metadata": {},
   "outputs": [
    {
     "name": "stdout",
     "output_type": "stream",
     "text": [
      "warmer\n",
      "make a new guess32\n",
      "No of Guesses:1\n",
      "warmer\n",
      "make a new guess95\n",
      "No of Guesses:2\n",
      "warmer\n",
      "make a new guess58\n",
      "No of Guesses:3\n",
      "yes the guess is correct.THe predicted number is 58\n",
      "guess number is 58\n",
      "No of guesses is 3\n"
     ]
    }
   ],
   "source": [
    "while player!=a:\n",
    "    count=count+1\n",
    "    if (player>100) or (player <1):\n",
    "        print(\"The number is out of bound\")\n",
    "        player=int(input(\"make a new guess\"))\n",
    "        print(\"No of Guesses:{}\".format(count))\n",
    "        continue\n",
    "    elif abs(player-a)<10:\n",
    "        print(\"colder\")\n",
    "        player=int(input(\"make a new guess\"))\n",
    "        print(\"No of Guesses:{}\".format(count))\n",
    "        continue\n",
    "    else:\n",
    "        print(\"warmer\")\n",
    "        player=int(input(\"make a new guess\"))\n",
    "        print(\"No of Guesses:{}\".format(count))\n",
    "        continue\n",
    "        \n",
    "print(\"yes the guess is correct.THe predicted number is {}\".format(player))        \n",
    "print(\"guess number is {}\".format(a))\n",
    "print(\"No of guesses is {}\".format(count))"
   ]
  },
  {
   "cell_type": "code",
   "execution_count": null,
   "id": "d3408908",
   "metadata": {},
   "outputs": [],
   "source": []
  }
 ],
 "metadata": {
  "kernelspec": {
   "display_name": "Python 3 (ipykernel)",
   "language": "python",
   "name": "python3"
  },
  "language_info": {
   "codemirror_mode": {
    "name": "ipython",
    "version": 3
   },
   "file_extension": ".py",
   "mimetype": "text/x-python",
   "name": "python",
   "nbconvert_exporter": "python",
   "pygments_lexer": "ipython3",
   "version": "3.9.12"
  }
 },
 "nbformat": 4,
 "nbformat_minor": 5
}
